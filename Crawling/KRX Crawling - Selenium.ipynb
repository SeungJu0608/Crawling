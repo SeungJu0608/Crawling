{
 "cells": [
  {
   "cell_type": "markdown",
   "id": "953f704d",
   "metadata": {},
   "source": [
    "## 삼성전자 주가데이터 웹크롤링"
   ]
  },
  {
   "cell_type": "markdown",
   "id": "758cc5fe",
   "metadata": {},
   "source": [
    "#### selenium이용하기"
   ]
  },
  {
   "cell_type": "code",
   "execution_count": 1,
   "id": "6634c8a3",
   "metadata": {},
   "outputs": [],
   "source": [
    "from bs4 import BeautifulSoup\n",
    "import pandas as pd\n",
    "\n",
    "from selenium import webdriver\n",
    "import time  # 해당 정보가 다 로딩이 될 때까지 기다릴 때\n",
    "import datetime  # 년월일,시간 관련 처리\n",
    "import re\n",
    "\n",
    "from selenium.webdriver.common.by import By\n",
    "from selenium.webdriver.support.ui import WebDriverWait\n",
    "from selenium.webdriver.support import expected_conditions as ec\n",
    "\n",
    "from datetime import datetime\n",
    "\n",
    "from collections import Counter\n",
    "from copy import deepcopy"
   ]
  },
  {
   "cell_type": "code",
   "execution_count": 2,
   "id": "3d4e4ef5",
   "metadata": {},
   "outputs": [],
   "source": [
    "chromedriver_path = r\"C:\\Users\\TFG5076XG\\Desktop\\chromedriver_win32\\chromedriver.exe\"\n",
    "driver = webdriver.Chrome(chromedriver_path)\n",
    "driver.implicitly_wait(3)   \n",
    "driver.maximize_window()"
   ]
  },
  {
   "cell_type": "code",
   "execution_count": 3,
   "id": "344e2c0c",
   "metadata": {},
   "outputs": [],
   "source": [
    "url1 = \"http://data.krx.co.kr/contents/MDC/MDI/mdiLoader/index.cmd?menuId=\"\n",
    "code = \"MDC0201020103\"\n",
    "\n",
    "url = url1 + code"
   ]
  },
  {
   "cell_type": "code",
   "execution_count": 4,
   "id": "28a53a42",
   "metadata": {},
   "outputs": [],
   "source": [
    "driver.get(url)"
   ]
  },
  {
   "cell_type": "code",
   "execution_count": 5,
   "id": "e03c996f",
   "metadata": {},
   "outputs": [],
   "source": [
    "# 날짜 선택을 위한 버튼 클릭\n",
    "cal_btn_xpath = '//*[@id=\"MDCSTAT017_FORM\"]/div[1]/div/table/tbody/tr[2]/td/div/div/button[1]'\n",
    "element = driver.find_element_by_xpath(cal_btn_xpath)\n",
    "element.click()\n",
    "time.sleep(3)\n",
    "\n",
    "start_year_btn_xpath = '/html/body/div[2]/section[2]/section/section/div/div/form/div[1]/div/table/tbody/tr[2]/td/div/div/div/div[1]/div[1]/span/select[1]/option[1]'\n",
    "WebDriverWait(driver, 3).until(ec.presence_of_element_located((By.XPATH, start_year_btn_xpath))).click()\n",
    "\n",
    "start_date_btn_xpath = '/html/body/div[2]/section[2]/section/section/div/div/form/div[1]/div/table/tbody/tr[2]/td/div/div/div/div[1]/div[2]/table/tbody/tr[2]/td[2]/a'\n",
    "WebDriverWait(driver, 3).until(ec.presence_of_element_located((By.XPATH, start_date_btn_xpath))).click()\n",
    "\n",
    "end_date_btn_xpath = '/html/body/div[2]/section[2]/section/section/div/div/form/div[1]/div/table/tbody/tr[2]/td/div/div/div/div[2]/div[1]/span/select[2]'\n",
    "WebDriverWait(driver, 3).until(ec.presence_of_element_located((By.XPATH, end_date_btn_xpath))).click()\n",
    "\n",
    "end_day_btn_xpath = '/html/body/div[2]/section[2]/section/section/div/div/form/div[1]/div/table/tbody/tr[2]/td/div/div/div/div[2]/div[2]/table/tbody/tr[2]/td[3]/a'\n",
    "WebDriverWait(driver, 3).until(ec.presence_of_element_located((By.XPATH, end_day_btn_xpath))).click()\n",
    "\n",
    "select_btn_xpath = '/html/body/div[2]/section[2]/section/section/div/div/form/div[1]/div/table/tbody/tr[2]/td/div/div/div/div[3]/button'\n",
    "WebDriverWait(driver, 3).until(ec.presence_of_element_located((By.XPATH, select_btn_xpath))).click()\n",
    "\n",
    "see_btn_xpath = '//*[@id=\"jsSearchButton\"]'\n",
    "WebDriverWait(driver, 3).until(ec.presence_of_element_located((By.XPATH, see_btn_xpath))).click()"
   ]
  },
  {
   "cell_type": "code",
   "execution_count": 6,
   "id": "322b6353",
   "metadata": {},
   "outputs": [],
   "source": [
    "# scroll down\n",
    "itemlist = driver.find_element_by_class_name(\"CI-FREEZE-SCROLLER\")"
   ]
  },
  {
   "cell_type": "code",
   "execution_count": 7,
   "id": "eb07b6fd-ac9e-4d36-bd5f-a95cedc82c3b",
   "metadata": {},
   "outputs": [],
   "source": [
    "# driver.execute_script(\"arguments[0].scrollBy(0, 536)\", itemlist)"
   ]
  },
  {
   "cell_type": "code",
   "execution_count": 8,
   "id": "82b1790c-8501-4e43-b3a2-d21aef0cd4fe",
   "metadata": {},
   "outputs": [],
   "source": [
    "# driver.execute_script(\"arguments[0].scrollBy(536, 1072)\", itemlist)"
   ]
  },
  {
   "cell_type": "code",
   "execution_count": 9,
   "id": "52dac0e2-3d5a-4b44-b127-8a75a8c5a9fa",
   "metadata": {},
   "outputs": [],
   "source": [
    "# driver.execute_script(\"arguments[0].scrollBy(0, 27692)\", itemlist)"
   ]
  },
  {
   "cell_type": "markdown",
   "id": "4869e808-040b-4fcd-863f-aa843bb80771",
   "metadata": {},
   "source": [
    "#### 첫 페이지 스크래핑"
   ]
  },
  {
   "cell_type": "code",
   "execution_count": 7,
   "id": "21acc55e-7ecb-4c1f-bbf4-1df902a81d54",
   "metadata": {},
   "outputs": [],
   "source": [
    "table_xpath = '/html/body/div[2]/section[2]/section/section/div/div/div[1]/div[1]/div[1]/div[2]/div/div'\n",
    "WebDriverWait(driver, 3).until(ec.presence_of_element_located((By.XPATH, table_xpath)))\n",
    "total_table = driver.find_element_by_xpath(table_xpath)\n",
    "\n",
    "total = total_table.text"
   ]
  },
  {
   "cell_type": "code",
   "execution_count": 8,
   "id": "93ab762d-ef5f-44b9-ba46-40f6e2f50093",
   "metadata": {},
   "outputs": [
    {
     "data": {
      "text/plain": [
       "['2021/07/06',\n",
       " '81,200',\n",
       " '800',\n",
       " '+1.00',\n",
       " '80,600',\n",
       " '81,200',\n",
       " '80,500',\n",
       " '12,131,651',\n",
       " '982,536,524,900',\n",
       " '484,746,343,060,000',\n",
       " '2021/07/05',\n",
       " '80,400',\n",
       " '400',\n",
       " '+0.50',\n",
       " '80,100',\n",
       " '80,800',\n",
       " '80,000',\n",
       " '8,330,969',\n",
       " '670,345,813,400',\n",
       " '479,970,517,020,000',\n",
       " '2021/07/02',\n",
       " '80,000',\n",
       " '100',\n",
       " '-0.12',\n",
       " '80,000',\n",
       " '80,400',\n",
       " '79,900',\n",
       " '8,753,097',\n",
       " '701,206,526,029',\n",
       " '477,582,604,000,000',\n",
       " '2021/07/01',\n",
       " '80,100',\n",
       " '600',\n",
       " '-0.74',\n",
       " '80,500',\n",
       " '80,600',\n",
       " '80,000',\n",
       " '13,382,882',\n",
       " '1,073,188,213,795',\n",
       " '478,179,582,255,000',\n",
       " '2021/06/30',\n",
       " '80,700',\n",
       " '300',\n",
       " '-0.37',\n",
       " '81,100',\n",
       " '81,400',\n",
       " '80,700',\n",
       " '13,288,643',\n",
       " '1,075,902,355,151',\n",
       " '481,761,451,785,000',\n",
       " '2021/06/29',\n",
       " '81,000',\n",
       " '900',\n",
       " '-1.10',\n",
       " '81,900',\n",
       " '82,100',\n",
       " '80,800',\n",
       " '15,744,317',\n",
       " '1,277,813,841,567',\n",
       " '483,552,386,550,000',\n",
       " '2021/06/28',\n",
       " '81,900',\n",
       " '300',\n",
       " '+0.37',\n",
       " '81,700',\n",
       " '82,000',\n",
       " '81,600',\n",
       " '11,578,529',\n",
       " '946,992,165,410',\n",
       " '488,925,190,845,000',\n",
       " '2021/06/25',\n",
       " '81,600',\n",
       " '400',\n",
       " '+0.49',\n",
       " '81,500',\n",
       " '81,900',\n",
       " '81,200',\n",
       " '13,481,405',\n",
       " '1,099,148,742,353',\n",
       " '487,134,256,080,000',\n",
       " '2021/06/24',\n",
       " '81,200',\n",
       " '1,100',\n",
       " '+1.37',\n",
       " '80,400',\n",
       " '81,400',\n",
       " '80,100',\n",
       " '18,771,080',\n",
       " '1,515,729,920,909',\n",
       " '484,746,343,060,000',\n",
       " '2021/06/23',\n",
       " '80,100',\n",
       " '100',\n",
       " '+0.13',\n",
       " '80,500',\n",
       " '80,600',\n",
       " '79,900',\n",
       " '13,856,548',\n",
       " '1,110,045,011,672',\n",
       " '478,179,582,255,000',\n",
       " '2021/06/22',\n",
       " '80,000',\n",
       " '100',\n",
       " '+0.13',\n",
       " '80,200',\n",
       " '80,300',\n",
       " '79,900',\n",
       " '11,773,365',\n",
       " '942,656,966,106',\n",
       " '477,582,604,000,000',\n",
       " '2021/06/21',\n",
       " '79,900',\n",
       " '600',\n",
       " '-0.75',\n",
       " '79,700',\n",
       " '80,000',\n",
       " '79,600',\n",
       " '16,063,340',\n",
       " '1,282,081,340,900',\n",
       " '476,985,625,745,000',\n",
       " '2021/06/18',\n",
       " '80,500',\n",
       " '400',\n",
       " '-0.49',\n",
       " '81,100',\n",
       " '81,100',\n",
       " '80,500',\n",
       " '14,916,721',\n",
       " '1,202,369,230,300',\n",
       " '480,567,495,275,000',\n",
       " '2021/06/17',\n",
       " '80,900',\n",
       " '900',\n",
       " '-1.10',\n",
       " '81,100',\n",
       " '81,300',\n",
       " '80,700',\n",
       " '14,007,385',\n",
       " '1,132,293,020,100',\n",
       " '482,955,408,295,000',\n",
       " '2021/06/16',\n",
       " '81,800',\n",
       " '900',\n",
       " '+1.11',\n",
       " '81,500',\n",
       " '81,900',\n",
       " '81,100',\n",
       " '14,999,855',\n",
       " '1,223,108,169,181',\n",
       " '488,328,212,590,000',\n",
       " '2021/06/15',\n",
       " '80,900',\n",
       " '400',\n",
       " '+0.50',\n",
       " '80,900',\n",
       " '81,200',\n",
       " '80,600',\n",
       " '10,075,685',\n",
       " '814,156,162,500',\n",
       " '482,955,408,295,000',\n",
       " '2021/06/14',\n",
       " '80,500',\n",
       " '500',\n",
       " '-0.62',\n",
       " '80,800',\n",
       " '80,900',\n",
       " '80,500',\n",
       " '10,550,078',\n",
       " '850,453,174,124',\n",
       " '480,567,495,275,000',\n",
       " '2021/06/11',\n",
       " '81,000',\n",
       " '0',\n",
       " '0.00',\n",
       " '81,200',\n",
       " '81,700',\n",
       " '80,700',\n",
       " '14,087,962',\n",
       " '1,142,077,783,332',\n",
       " '483,552,386,550,000',\n",
       " '2021/06/10',\n",
       " '81,000',\n",
       " '100',\n",
       " '-0.12',\n",
       " '81,300',\n",
       " '81,400',\n",
       " '80,900',\n",
       " '17,586,995',\n",
       " '1,426,082,429,800',\n",
       " '483,552,386,550,000',\n",
       " '2021/06/09',\n",
       " '81,100',\n",
       " '81,500',\n",
       " '82,000',\n",
       " '81,100',\n",
       " '14,908,823',\n",
       " '1,214,345,795,800',\n",
       " '484,149,364,805,000']"
      ]
     },
     "execution_count": 8,
     "metadata": {},
     "output_type": "execute_result"
    }
   ],
   "source": [
    "splitted = re.split(\"[\\n \" \"]\", total)\n",
    "splitted"
   ]
  },
  {
   "cell_type": "code",
   "execution_count": 12,
   "id": "6b80c0eb-76f8-422d-92ec-eaa0e0e69d48",
   "metadata": {},
   "outputs": [],
   "source": [
    "ex_splitted = splitted[:-8]"
   ]
  },
  {
   "cell_type": "markdown",
   "id": "60fc2dc5",
   "metadata": {},
   "source": [
    "=> 마지막 부분에서 데이터의 유실이 발생 되었음을 알 수 있고 이러한 부분들을 처리해주어야 한다."
   ]
  },
  {
   "cell_type": "code",
   "execution_count": 10,
   "id": "544f7aeb",
   "metadata": {
    "scrolled": false
   },
   "outputs": [
    {
     "data": {
      "text/plain": [
       "['2021/06/18',\n",
       " '80,500',\n",
       " '400',\n",
       " '-0.49',\n",
       " '81,100',\n",
       " '81,100',\n",
       " '80,500',\n",
       " '14,916,721',\n",
       " '1,202,369,230,300',\n",
       " '480,567,495,275,000',\n",
       " '2021/06/17',\n",
       " '80,900',\n",
       " '81,100',\n",
       " '81,300',\n",
       " '80,700',\n",
       " '14,007,385',\n",
       " '1,132,293,020,100',\n",
       " '482,955,408,295,000']"
      ]
     },
     "execution_count": 10,
     "metadata": {},
     "output_type": "execute_result"
    }
   ],
   "source": [
    "splitted[-18:]"
   ]
  },
  {
   "cell_type": "code",
   "execution_count": 10,
   "id": "c64eee4d-47de-4a6c-b9f3-ae35c7e34ff2",
   "metadata": {},
   "outputs": [
    {
     "data": {
      "text/plain": [
       "198"
      ]
     },
     "execution_count": 10,
     "metadata": {},
     "output_type": "execute_result"
    }
   ],
   "source": [
    "len(splitted)"
   ]
  },
  {
   "cell_type": "code",
   "execution_count": 11,
   "id": "453eea55-54c2-431b-93b5-00c667c945aa",
   "metadata": {},
   "outputs": [],
   "source": [
    "curr_pxl = 0\n",
    "space = 536\n",
    "\n",
    "while True:\n",
    "    driver.execute_script(\"arguments[0].scrollBy(0,\" + str(space) + \")\", itemlist)\n",
    "    table_xpath = '//*[@id=\"jsMdiContent\"]/div/div[1]/div[1]/div[1]/div[2]/div/div/table'\n",
    "    WebDriverWait(driver, 3).until(ec.presence_of_element_located((By.XPATH, table_xpath)))\n",
    "    total_table = driver.find_element_by_xpath(table_xpath)\n",
    "    time.sleep(5)\n",
    "    text = total_table.text\n",
    "    \n",
    "    total += \"\\n\"\n",
    "    total += text\n",
    "    \n",
    "    if curr_pxl > 26676:\n",
    "        break\n",
    "    curr_pxl += space\n",
    "    "
   ]
  },
  {
   "cell_type": "code",
   "execution_count": 13,
   "id": "c9d767d5",
   "metadata": {},
   "outputs": [],
   "source": [
    "# 각 정보를 문자열에서 split\n",
    "split_info = re.split(\"[\\n \" \"]\", total)"
   ]
  },
  {
   "cell_type": "code",
   "execution_count": 14,
   "id": "d5fe1158",
   "metadata": {},
   "outputs": [],
   "source": [
    "# 날짜만 추출하여 중복되어 잘 못 스크래핑 된 데이터 뽑아내기\n",
    "date = []\n",
    "for el in split_info:\n",
    "    if re.match(\"(\\d{4}/\\d+/\\d+)\", el):\n",
    "        date.append(el)\n",
    "        \n",
    "        \n",
    "result = Counter(date)\n",
    "\n",
    "double = []\n",
    "\n",
    "for key, value in result.items():\n",
    "    if value == 2:\n",
    "        double.append(key)"
   ]
  },
  {
   "cell_type": "code",
   "execution_count": 15,
   "id": "fd8d106e",
   "metadata": {},
   "outputs": [],
   "source": [
    "split2 = deepcopy(split_info)"
   ]
  },
  {
   "cell_type": "code",
   "execution_count": 16,
   "id": "1b04bc44",
   "metadata": {},
   "outputs": [],
   "source": [
    "# 데이터의 유실이 있는 경우는 첫번째 세트에서 발생하였다. 각 데이터 셋의 첫번째 셋을 제거해야한다.\n",
    "# 중복된 날짜에 해당하는 데이터 셋의 첫번째로 나오는 인덱스 추출\n",
    "idx = []\n",
    "for i in double:\n",
    "    idx.append(split2.index(i))"
   ]
  },
  {
   "cell_type": "code",
   "execution_count": 17,
   "id": "afe3f0a6",
   "metadata": {},
   "outputs": [
    {
     "data": {
      "text/plain": [
       "61"
      ]
     },
     "execution_count": 17,
     "metadata": {},
     "output_type": "execute_result"
    }
   ],
   "source": [
    "len(idx)"
   ]
  },
  {
   "cell_type": "code",
   "execution_count": 18,
   "id": "61b8e2fd",
   "metadata": {
    "scrolled": true
   },
   "outputs": [],
   "source": [
    "# 첫 번째 세트의 데이터가 유실되었는지 확인한 후 해당 날짜에 대한 인덱스 모으기\n",
    "to_del_first = []\n",
    "for f in idx:\n",
    "    first_set = split2[f:(f+10)]\n",
    "    if first_set.count(split2[f]) == 2:\n",
    "        to_del_first.append(f)\n",
    "        idx.remove(f)"
   ]
  },
  {
   "cell_type": "code",
   "execution_count": 19,
   "id": "f480779a",
   "metadata": {},
   "outputs": [
    {
     "data": {
      "text/plain": [
       "8"
      ]
     },
     "execution_count": 19,
     "metadata": {},
     "output_type": "execute_result"
    }
   ],
   "source": [
    "len(to_del_first)"
   ]
  },
  {
   "cell_type": "code",
   "execution_count": 20,
   "id": "54c1b1d9",
   "metadata": {},
   "outputs": [
    {
     "name": "stdout",
     "output_type": "stream",
     "text": [
      "64\n"
     ]
    }
   ],
   "source": [
    "# to_del_first에 해당하는 인덱스를 중복 데이터 셋 중 데이터 유실이 발생한 세트 지우기\n",
    "count = 0  # 제거한 원소의 개수\n",
    "\n",
    "for d_idx in to_del_first:\n",
    "    d_idx -= count   # 리스트 원소의 del로 인해 해당하는 원소들의 인덱스도 그만큼 줄어들게됨!    \n",
    "    del split2[d_idx:(d_idx+8)]  # 데이터의 유실이 일어난 데이터 셋의 원소들을 모두 8개씩 들어있다.\n",
    "    count += 8\n",
    "\n",
    "print(count)"
   ]
  },
  {
   "cell_type": "code",
   "execution_count": 21,
   "id": "00cc441e",
   "metadata": {
    "scrolled": true
   },
   "outputs": [
    {
     "data": {
      "text/plain": [
       "53"
      ]
     },
     "execution_count": 21,
     "metadata": {},
     "output_type": "execute_result"
    }
   ],
   "source": [
    "len(idx)"
   ]
  },
  {
   "cell_type": "code",
   "execution_count": 22,
   "id": "9abf52ae",
   "metadata": {},
   "outputs": [
    {
     "name": "stdout",
     "output_type": "stream",
     "text": [
      "530\n"
     ]
    }
   ],
   "source": [
    "# 이후 idx에 남아있는 중복된 데이터들에 대해 제거해주기\n",
    "count = 0  # 제거한 원소의 개수\n",
    "\n",
    "for d_idx in idx:\n",
    "    d_idx -= count   # 리스트 원소의 del로 인해 해당하는 원소들의 인덱스도 그만큼 줄어들게됨!    \n",
    "    del split2[d_idx:(d_idx+10)]  # 데이터의 유실이 일어난 데이터 셋의 원소들을 모두 8개씩 들어있다.\n",
    "    count += 10\n",
    "\n",
    "print(count)"
   ]
  },
  {
   "cell_type": "code",
   "execution_count": 25,
   "id": "dccf1c27",
   "metadata": {},
   "outputs": [
    {
     "data": {
      "text/plain": [
       "983.0"
      ]
     },
     "execution_count": 25,
     "metadata": {},
     "output_type": "execute_result"
    }
   ],
   "source": [
    "# 총 데이터 개수 확인\n",
    "len(split2)/10  # 총 날짜 수"
   ]
  },
  {
   "cell_type": "code",
   "execution_count": 38,
   "id": "bcf5b1a1",
   "metadata": {},
   "outputs": [],
   "source": [
    "# split2 리스트내 각 정보들을 데이터 프레임으로 가져오기\n",
    "date = []\n",
    "closing_price = []\n",
    "comparation = []\n",
    "ratio = []\n",
    "market_price = []\n",
    "highest_price = []\n",
    "lowest_price = []\n",
    "trading_volume = []\n",
    "transaction_amount =[]\n",
    "market_cap = []\n",
    "\n",
    "for day in range(int(len(split2)/10)):\n",
    "    day_ind = day*10\n",
    "    \n",
    "    date.append(split2[( day_ind+ 0)])\n",
    "    closing_price.append(split2[(day_ind + 1)])\n",
    "    comparation.append(split2[(day_ind + 2)])\n",
    "    ratio.append(split2[(day_ind + 3)])\n",
    "    market_price.append(split2[(day_ind + 4)])\n",
    "    highest_price.append(split2[(day_ind + 5)])\n",
    "    lowest_price.append(split2[(day_ind + 6)])\n",
    "    trading_volume.append(split2[(day_ind + 7)])\n",
    "    transaction_amount.append(split2[(day_ind + 8)])\n",
    "    market_cap.append(split2[(day_ind + 9)])"
   ]
  },
  {
   "cell_type": "code",
   "execution_count": 39,
   "id": "9c3874e1",
   "metadata": {},
   "outputs": [
    {
     "name": "stdout",
     "output_type": "stream",
     "text": [
      "983\n",
      "983\n",
      "983\n",
      "983\n",
      "983\n",
      "983\n",
      "983\n",
      "983\n",
      "983\n",
      "983\n"
     ]
    }
   ],
   "source": [
    "cols = [date,closing_price,comparation,ratio,market_price, highest_price,lowest_price,\n",
    "       trading_volume,transaction_amount, market_cap]\n",
    "\n",
    "for c in cols:\n",
    "    print(len(c))"
   ]
  },
  {
   "cell_type": "code",
   "execution_count": 40,
   "id": "87a97564",
   "metadata": {},
   "outputs": [
    {
     "data": {
      "text/html": [
       "<div>\n",
       "<style scoped>\n",
       "    .dataframe tbody tr th:only-of-type {\n",
       "        vertical-align: middle;\n",
       "    }\n",
       "\n",
       "    .dataframe tbody tr th {\n",
       "        vertical-align: top;\n",
       "    }\n",
       "\n",
       "    .dataframe thead th {\n",
       "        text-align: right;\n",
       "    }\n",
       "</style>\n",
       "<table border=\"1\" class=\"dataframe\">\n",
       "  <thead>\n",
       "    <tr style=\"text-align: right;\">\n",
       "      <th></th>\n",
       "      <th>closing_price</th>\n",
       "      <th>comparation</th>\n",
       "      <th>ratio</th>\n",
       "      <th>market_price</th>\n",
       "      <th>highest_price</th>\n",
       "      <th>lowest_price</th>\n",
       "      <th>trading_volume</th>\n",
       "      <th>transaction_amount</th>\n",
       "      <th>market_cap</th>\n",
       "    </tr>\n",
       "    <tr>\n",
       "      <th>date</th>\n",
       "      <th></th>\n",
       "      <th></th>\n",
       "      <th></th>\n",
       "      <th></th>\n",
       "      <th></th>\n",
       "      <th></th>\n",
       "      <th></th>\n",
       "      <th></th>\n",
       "      <th></th>\n",
       "    </tr>\n",
       "  </thead>\n",
       "  <tbody>\n",
       "    <tr>\n",
       "      <th>2021/07/06</th>\n",
       "      <td>81,200</td>\n",
       "      <td>800</td>\n",
       "      <td>+1.00</td>\n",
       "      <td>80,600</td>\n",
       "      <td>81,200</td>\n",
       "      <td>80,500</td>\n",
       "      <td>12,131,651</td>\n",
       "      <td>982,536,524,900</td>\n",
       "      <td>484,746,343,060,000</td>\n",
       "    </tr>\n",
       "    <tr>\n",
       "      <th>2021/07/05</th>\n",
       "      <td>80,400</td>\n",
       "      <td>400</td>\n",
       "      <td>+0.50</td>\n",
       "      <td>80,100</td>\n",
       "      <td>80,800</td>\n",
       "      <td>80,000</td>\n",
       "      <td>8,330,969</td>\n",
       "      <td>670,345,813,400</td>\n",
       "      <td>479,970,517,020,000</td>\n",
       "    </tr>\n",
       "    <tr>\n",
       "      <th>2021/07/02</th>\n",
       "      <td>80,000</td>\n",
       "      <td>100</td>\n",
       "      <td>-0.12</td>\n",
       "      <td>80,000</td>\n",
       "      <td>80,400</td>\n",
       "      <td>79,900</td>\n",
       "      <td>8,753,097</td>\n",
       "      <td>701,206,526,029</td>\n",
       "      <td>477,582,604,000,000</td>\n",
       "    </tr>\n",
       "    <tr>\n",
       "      <th>2021/07/01</th>\n",
       "      <td>80,100</td>\n",
       "      <td>600</td>\n",
       "      <td>-0.74</td>\n",
       "      <td>80,500</td>\n",
       "      <td>80,600</td>\n",
       "      <td>80,000</td>\n",
       "      <td>13,382,882</td>\n",
       "      <td>1,073,188,213,795</td>\n",
       "      <td>478,179,582,255,000</td>\n",
       "    </tr>\n",
       "    <tr>\n",
       "      <th>2021/06/30</th>\n",
       "      <td>80,700</td>\n",
       "      <td>300</td>\n",
       "      <td>-0.37</td>\n",
       "      <td>81,100</td>\n",
       "      <td>81,400</td>\n",
       "      <td>80,700</td>\n",
       "      <td>13,288,643</td>\n",
       "      <td>1,075,902,355,151</td>\n",
       "      <td>481,761,451,785,000</td>\n",
       "    </tr>\n",
       "    <tr>\n",
       "      <th>2021/06/29</th>\n",
       "      <td>81,000</td>\n",
       "      <td>900</td>\n",
       "      <td>-1.10</td>\n",
       "      <td>81,900</td>\n",
       "      <td>82,100</td>\n",
       "      <td>80,800</td>\n",
       "      <td>15,744,317</td>\n",
       "      <td>1,277,813,841,567</td>\n",
       "      <td>483,552,386,550,000</td>\n",
       "    </tr>\n",
       "    <tr>\n",
       "      <th>2021/06/28</th>\n",
       "      <td>81,900</td>\n",
       "      <td>300</td>\n",
       "      <td>+0.37</td>\n",
       "      <td>81,700</td>\n",
       "      <td>82,000</td>\n",
       "      <td>81,600</td>\n",
       "      <td>11,578,529</td>\n",
       "      <td>946,992,165,410</td>\n",
       "      <td>488,925,190,845,000</td>\n",
       "    </tr>\n",
       "    <tr>\n",
       "      <th>2021/06/25</th>\n",
       "      <td>81,600</td>\n",
       "      <td>400</td>\n",
       "      <td>+0.49</td>\n",
       "      <td>81,500</td>\n",
       "      <td>81,900</td>\n",
       "      <td>81,200</td>\n",
       "      <td>13,481,405</td>\n",
       "      <td>1,099,148,742,353</td>\n",
       "      <td>487,134,256,080,000</td>\n",
       "    </tr>\n",
       "    <tr>\n",
       "      <th>2021/06/24</th>\n",
       "      <td>81,200</td>\n",
       "      <td>1,100</td>\n",
       "      <td>+1.37</td>\n",
       "      <td>80,400</td>\n",
       "      <td>81,400</td>\n",
       "      <td>80,100</td>\n",
       "      <td>18,771,080</td>\n",
       "      <td>1,515,729,920,909</td>\n",
       "      <td>484,746,343,060,000</td>\n",
       "    </tr>\n",
       "    <tr>\n",
       "      <th>2021/06/23</th>\n",
       "      <td>80,100</td>\n",
       "      <td>100</td>\n",
       "      <td>+0.13</td>\n",
       "      <td>80,500</td>\n",
       "      <td>80,600</td>\n",
       "      <td>79,900</td>\n",
       "      <td>13,856,548</td>\n",
       "      <td>1,110,045,011,672</td>\n",
       "      <td>478,179,582,255,000</td>\n",
       "    </tr>\n",
       "  </tbody>\n",
       "</table>\n",
       "</div>"
      ],
      "text/plain": [
       "           closing_price comparation  ratio market_price highest_price  \\\n",
       "date                                                                     \n",
       "2021/07/06        81,200         800  +1.00       80,600        81,200   \n",
       "2021/07/05        80,400         400  +0.50       80,100        80,800   \n",
       "2021/07/02        80,000         100  -0.12       80,000        80,400   \n",
       "2021/07/01        80,100         600  -0.74       80,500        80,600   \n",
       "2021/06/30        80,700         300  -0.37       81,100        81,400   \n",
       "2021/06/29        81,000         900  -1.10       81,900        82,100   \n",
       "2021/06/28        81,900         300  +0.37       81,700        82,000   \n",
       "2021/06/25        81,600         400  +0.49       81,500        81,900   \n",
       "2021/06/24        81,200       1,100  +1.37       80,400        81,400   \n",
       "2021/06/23        80,100         100  +0.13       80,500        80,600   \n",
       "\n",
       "           lowest_price trading_volume transaction_amount           market_cap  \n",
       "date                                                                            \n",
       "2021/07/06       80,500     12,131,651    982,536,524,900  484,746,343,060,000  \n",
       "2021/07/05       80,000      8,330,969    670,345,813,400  479,970,517,020,000  \n",
       "2021/07/02       79,900      8,753,097    701,206,526,029  477,582,604,000,000  \n",
       "2021/07/01       80,000     13,382,882  1,073,188,213,795  478,179,582,255,000  \n",
       "2021/06/30       80,700     13,288,643  1,075,902,355,151  481,761,451,785,000  \n",
       "2021/06/29       80,800     15,744,317  1,277,813,841,567  483,552,386,550,000  \n",
       "2021/06/28       81,600     11,578,529    946,992,165,410  488,925,190,845,000  \n",
       "2021/06/25       81,200     13,481,405  1,099,148,742,353  487,134,256,080,000  \n",
       "2021/06/24       80,100     18,771,080  1,515,729,920,909  484,746,343,060,000  \n",
       "2021/06/23       79,900     13,856,548  1,110,045,011,672  478,179,582,255,000  "
      ]
     },
     "execution_count": 40,
     "metadata": {},
     "output_type": "execute_result"
    }
   ],
   "source": [
    "# DataFrame으로 묶기\n",
    "df_samsung = pd.DataFrame(\n",
    "    {\"date\" : date,\n",
    "     \"closing_price\" : closing_price,\n",
    "     \"comparation\" : comparation,\n",
    "     \"ratio\" : ratio,\n",
    "     \"market_price\" : market_price,\n",
    "     \"highest_price\" : highest_price,\n",
    "     \"lowest_price\" : lowest_price,\n",
    "     \"trading_volume\" : trading_volume,\n",
    "     \"transaction_amount\" : transaction_amount,\n",
    "     \"market_cap\" : market_cap }    \n",
    ")\n",
    "\n",
    "# 날짜 컬럼을 index로 설정하기\n",
    "df_samsung.set_index(\"date\", inplace = True)\n",
    "df_samsung.head(10)"
   ]
  },
  {
   "cell_type": "code",
   "execution_count": null,
   "id": "f63dfe85",
   "metadata": {},
   "outputs": [],
   "source": []
  }
 ],
 "metadata": {
  "kernelspec": {
   "display_name": "Python 3",
   "language": "python",
   "name": "python3"
  },
  "language_info": {
   "codemirror_mode": {
    "name": "ipython",
    "version": 3
   },
   "file_extension": ".py",
   "mimetype": "text/x-python",
   "name": "python",
   "nbconvert_exporter": "python",
   "pygments_lexer": "ipython3",
   "version": "3.8.8"
  }
 },
 "nbformat": 4,
 "nbformat_minor": 5
}
